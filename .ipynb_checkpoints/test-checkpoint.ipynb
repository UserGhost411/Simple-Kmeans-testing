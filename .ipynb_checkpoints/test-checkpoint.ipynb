{
 "cells": [
  {
   "cell_type": "code",
   "execution_count": 1,
   "metadata": {},
   "outputs": [],
   "source": [
    "import pandas as pd\n",
    "from sklearn.cluster import KMeans \n",
    "from sklearn.preprocessing import MinMaxScaler"
   ]
  },
  {
   "cell_type": "code",
   "execution_count": 6,
   "metadata": {},
   "outputs": [
    {
     "data": {
      "text/plain": [
       "array([[ 3,  6,  4, 10, 10, 12, 30, 53, 12],\n",
       "       [ 0,  0,  0,  0,  0,  0,  0,  0,  0],\n",
       "       [ 0,  0,  0,  0,  0,  0,  0,  0,  0],\n",
       "       [ 0,  0,  0,  0,  0,  1,  5, 12,  6],\n",
       "       [ 0,  0,  0,  0,  0,  0,  0,  0,  0],\n",
       "       [ 0,  0,  0,  0,  0,  0,  0,  0,  0],\n",
       "       [ 0,  0,  0,  0,  0,  0,  0,  0,  0],\n",
       "       [ 0,  0,  0,  0,  0,  0,  0,  0,  0],\n",
       "       [ 0,  0,  0,  0,  0,  2,  0,  0,  1],\n",
       "       [ 0,  0,  0,  0,  0,  0,  0,  0,  0],\n",
       "       [ 0,  0,  0,  0,  0,  0,  2,  1,  0],\n",
       "       [ 0,  0,  0,  0,  0,  0,  0,  0,  0],\n",
       "       [ 0,  0,  0,  0,  0,  1,  0,  0,  0],\n",
       "       [ 1,  2,  2,  2,  2, 10,  5,  0,  1],\n",
       "       [ 1, 14, 11, 15, 15, 17, 19, 35, 15],\n",
       "       [ 5, 24, 19, 25, 25, 41, 62, 57, 31],\n",
       "       [ 0,  0,  0,  0,  0,  0,  0,  0,  0],\n",
       "       [ 0,  0,  0,  0,  0,  0,  0,  0,  0],\n",
       "       [ 0,  0,  0,  0,  0,  1,  0,  2,  1],\n",
       "       [ 0,  0,  0,  0,  0,  0,  0,  8,  2],\n",
       "       [ 0,  0,  0,  0,  0, 11, 13, 24,  2],\n",
       "       [ 0,  0,  0,  0,  0,  0,  2,  4,  2],\n",
       "       [ 0,  0,  0,  0,  0,  2,  5, 24, 11],\n",
       "       [ 0,  0,  0,  0,  0,  0,  0,  0,  0],\n",
       "       [ 0,  0,  0,  0,  0,  0,  0,  0,  0],\n",
       "       [ 0,  0,  0,  0,  0,  0,  0,  0,  0],\n",
       "       [ 0,  0,  0,  0,  0,  0,  0,  0,  0]], dtype=int64)"
      ]
     },
     "execution_count": 6,
     "metadata": {},
     "output_type": "execute_result"
    }
   ],
   "source": [
    "dataset = pd.read_csv(\"raw_gud.csv\")\n",
    "x = dataset.iloc[:, [1,2,3,4,5,6,7,8,9]].values\n",
    "kota = dataset.iloc[:,[0]].values"
   ]
  },
  {
   "cell_type": "code",
   "execution_count": 17,
   "metadata": {},
   "outputs": [
    {
     "name": "stdout",
     "output_type": "stream",
     "text": [
      "KABUPATEN BOGOR = 1  -  [ 3  6  4 10 10 12 30 53 12]\n",
      "KABUPATEN SUKABUMI = 0  -  [0 0 0 0 0 0 0 0 0]\n",
      "KABUPATEN CIANJUR = 0  -  [0 0 0 0 0 0 0 0 0]\n",
      "KABUPATEN BANDUNG = 0  -  [ 0  0  0  0  0  1  5 12  6]\n",
      "KABUPATEN GARUT = 0  -  [0 0 0 0 0 0 0 0 0]\n",
      "KABUPATEN TASIKMALAYA = 0  -  [0 0 0 0 0 0 0 0 0]\n",
      "KABUPATEN CIAMIS = 0  -  [0 0 0 0 0 0 0 0 0]\n",
      "KABUPATEN KUNINGAN = 0  -  [0 0 0 0 0 0 0 0 0]\n",
      "KABUPATEN CIREBON = 0  -  [0 0 0 0 0 2 0 0 1]\n",
      "KABUPATEN MAJALENGKA = 0  -  [0 0 0 0 0 0 0 0 0]\n",
      "KABUPATEN SUMEDANG = 0  -  [0 0 0 0 0 0 2 1 0]\n",
      "KABUPATEN INDRAMAYU = 0  -  [0 0 0 0 0 0 0 0 0]\n",
      "KABUPATEN SUBANG = 0  -  [0 0 0 0 0 1 0 0 0]\n",
      "KABUPATEN PURWAKARTA = 0  -  [ 1  2  2  2  2 10  5  0  1]\n",
      "KABUPATEN KARAWANG = 1  -  [ 1 14 11 15 15 17 19 35 15]\n",
      "KABUPATEN BEKASI = 2  -  [ 5 24 19 25 25 41 62 57 31]\n",
      "KABUPATEN BANDUNG BARAT = 0  -  [0 0 0 0 0 0 0 0 0]\n",
      "KABUPATEN PANGANDARAN = 0  -  [0 0 0 0 0 0 0 0 0]\n",
      "KOTA BOGOR = 0  -  [0 0 0 0 0 1 0 2 1]\n",
      "KOTA SUKABUMI = 0  -  [0 0 0 0 0 0 0 8 2]\n",
      "KOTA BANDUNG = 0  -  [ 0  0  0  0  0 11 13 24  2]\n",
      "KOTA CIREBON = 0  -  [0 0 0 0 0 0 2 4 2]\n",
      "KOTA BEKASI = 0  -  [ 0  0  0  0  0  2  5 24 11]\n",
      "KOTA DEPOK = 0  -  [0 0 0 0 0 0 0 0 0]\n",
      "KOTA CIMAHI = 0  -  [0 0 0 0 0 0 0 0 0]\n",
      "KOTA TASIKMALAYA = 0  -  [0 0 0 0 0 0 0 0 0]\n",
      "KOTA BANJAR = 0  -  [0 0 0 0 0 0 0 0 0]\n"
     ]
    },
    {
     "name": "stderr",
     "output_type": "stream",
     "text": [
      "c:\\users\\asus\\appdata\\local\\programs\\python\\python38\\lib\\site-packages\\sklearn\\cluster\\_kmeans.py:870: FutureWarning: The default value of `n_init` will change from 10 to 'auto' in 1.4. Set the value of `n_init` explicitly to suppress the warning\n",
      "  warnings.warn(\n"
     ]
    }
   ],
   "source": [
    "kmeans = KMeans(n_clusters = 3, init = 'k-means++', random_state = 42)\n",
    "y_kmeans = kmeans.fit_predict(x)\n",
    "for a in range(0,len(y_kmeans)):\n",
    "    print(kota[a][0]+\" = \"+str(y_kmeans[a])+\"  -  \"+str(x[a]))"
   ]
  },
  {
   "cell_type": "code",
   "execution_count": 16,
   "metadata": {},
   "outputs": [
    {
     "name": "stdout",
     "output_type": "stream",
     "text": [
      "Hasil centroid iterasi terakhir adalah :\n",
      " [[4.16666667e-02 8.33333333e-02 8.33333333e-02 8.33333333e-02\n",
      "  8.33333333e-02 1.16666667e+00 1.33333333e+00 3.12500000e+00\n",
      "  1.08333333e+00]\n",
      " [2.00000000e+00 1.00000000e+01 7.50000000e+00 1.25000000e+01\n",
      "  1.25000000e+01 1.45000000e+01 2.45000000e+01 4.40000000e+01\n",
      "  1.35000000e+01]\n",
      " [5.00000000e+00 2.40000000e+01 1.90000000e+01 2.50000000e+01\n",
      "  2.50000000e+01 4.10000000e+01 6.20000000e+01 5.70000000e+01\n",
      "  3.10000000e+01]]\n",
      "\n",
      "\n",
      "Hasil SSE adalah sebagai berikut : 2038.4166666666665\n"
     ]
    }
   ],
   "source": [
    "print(\"Hasil centroid iterasi terakhir adalah :\\n\",kmeans.cluster_centers_)\n",
    "print(\"\\n\\nHasil SSE adalah sebagai berikut :\",kmeans.inertia_)"
   ]
  },
  {
   "cell_type": "code",
   "execution_count": null,
   "metadata": {},
   "outputs": [],
   "source": []
  }
 ],
 "metadata": {
  "kernelspec": {
   "display_name": "Python 3 (ipykernel)",
   "language": "python",
   "name": "python3"
  },
  "language_info": {
   "codemirror_mode": {
    "name": "ipython",
    "version": 3
   },
   "file_extension": ".py",
   "mimetype": "text/x-python",
   "name": "python",
   "nbconvert_exporter": "python",
   "pygments_lexer": "ipython3",
   "version": "3.8.10"
  }
 },
 "nbformat": 4,
 "nbformat_minor": 4
}
