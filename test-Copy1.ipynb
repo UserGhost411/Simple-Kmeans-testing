{
 "cells": [
  {
   "cell_type": "code",
   "execution_count": 1,
   "metadata": {},
   "outputs": [],
   "source": [
    "import pandas as pd\n",
    "from sklearn.cluster import KMeans \n",
    "from sklearn.preprocessing import MinMaxScaler\n",
    "import matplotlib.pyplot as plt"
   ]
  },
  {
   "cell_type": "code",
   "execution_count": 8,
   "metadata": {},
   "outputs": [],
   "source": [
    "dataset = pd.read_csv(\"alpin.csv\")\n",
    "x = dataset.iloc[:, [1,2,3,4,5]].values\n",
    "kota = dataset.iloc[:,[0]].values"
   ]
  },
  {
   "cell_type": "code",
   "execution_count": 9,
   "metadata": {},
   "outputs": [
    {
     "name": "stdout",
     "output_type": "stream",
     "text": [
      "Gujarat = 2  -  [3.85 3.6  3.71 3.64 3.55]\n",
      "Haryana = 2  -  [3.68 3.74 3.69 3.8  3.7 ]\n",
      "Punjab = 2  -  [3.88 3.72 3.89 3.87 3.56]\n",
      "TamilNadu = 2  -  [3.68 3.52 3.67 3.72 3.57]\n",
      "Maharashtra = 2  -  [3.4  3.51 3.68 3.66 3.53]\n",
      "UttarPradesh = 2  -  [3.47 3.23 3.45 3.47 3.46]\n",
      "Odisha = 0  -  [3.28 2.81 3.52 3.49 3.18]\n",
      "Karnataka = 2  -  [3.51 3.5  3.52 3.52 3.56]\n",
      "AndhraPradesh = 2  -  [3.59 3.27 3.55 3.5  3.48]\n",
      "Telangana = 2  -  [3.48 3.21 3.52 3.56 3.67]\n",
      "Chhattisgarh = 0  -  [3.31 3.3  3.33 3.38 3.33]\n",
      "Jharkhand = 0  -  [2.88 3.05 3.22 3.34 3.01]\n",
      "Uttarakhand = 0  -  [3.03 3.15 3.29 3.24 3.12]\n",
      "Kerala = 0  -  [3.   2.9  3.54 3.51 3.44]\n",
      "WestBengal = 0  -  [3.04 3.03 3.23 3.49 3.21]\n",
      "Rajasthan = 0  -  [3.19 2.9  3.19 3.44 3.24]\n",
      "MadhyaPradesh = 3  -  [3.07 2.71 3.01 2.92 2.87]\n",
      "Goa = 0  -  [3.07 2.85 3.   3.06 3.09]\n",
      "Bihar = 3  -  [2.77 2.46 2.63 2.77 2.75]\n",
      "HimachalPradesh = 0  -  [3.45 2.89 2.93 3.   3.01]\n",
      "Assam = 3  -  [2.64 2.45 2.65 2.85 2.48]\n",
      "Jammu Kasmhir = 3  -  [2.46 2.5  2.72 2.64 2.8 ]\n",
      "Sikkim = 1  -  [2.3  2.3  2.18 2.33 2.55]\n",
      "Meghalaya = 1  -  [2.06 2.29 2.19 2.34 2.07]\n",
      "Tripura = 1  -  [2.37 2.24 2.08 2.26 2.15]\n",
      "ArunachalPradesh = 1  -  [2.21 2.33 2.17 2.17 2.21]\n",
      "Manipur = 1  -  [1.96 2.08 1.87 2.22 1.87]\n",
      "Mizoram = 1  -  [1.93 2.   2.07 2.13 2.07]\n",
      "Nagaland = 1  -  [2.21 1.92 1.87 1.78 2.04]\n",
      "Delhi = 2  -  [3.66 3.42 3.54 3.7  3.45]\n",
      "Chandigarh = 2  -  [3.86 3.57 3.38 3.46 3.48]\n"
     ]
    },
    {
     "name": "stderr",
     "output_type": "stream",
     "text": [
      "c:\\users\\asus\\appdata\\local\\programs\\python\\python38\\lib\\site-packages\\sklearn\\cluster\\_kmeans.py:870: FutureWarning: The default value of `n_init` will change from 10 to 'auto' in 1.4. Set the value of `n_init` explicitly to suppress the warning\n",
      "  warnings.warn(\n"
     ]
    }
   ],
   "source": [
    "kmeans = KMeans(n_clusters = 4, init = 'k-means++', random_state = 42)\n",
    "y_kmeans = kmeans.fit_predict(x)\n",
    "for a in range(0,len(y_kmeans)):\n",
    "    print(kota[a][0]+\" = \"+str(y_kmeans[a])+\"  -  \"+str(x[a]))"
   ]
  },
  {
   "cell_type": "code",
   "execution_count": 10,
   "metadata": {},
   "outputs": [
    {
     "name": "stdout",
     "output_type": "stream",
     "text": [
      "Hasil centroid iterasi terakhir adalah :\n",
      " [[3.13888889 2.98666667 3.25       3.32777778 3.18111111]\n",
      " [2.14857143 2.16571429 2.06142857 2.17571429 2.13714286]\n",
      " [3.64181818 3.48090909 3.6        3.62727273 3.54636364]\n",
      " [2.735      2.53       2.7525     2.795      2.725     ]]\n",
      "\n",
      "\n",
      "Hasil SSE adalah sebagai berikut : 3.730492748917748\n"
     ]
    }
   ],
   "source": [
    "print(\"Hasil centroid iterasi terakhir adalah :\\n\",kmeans.cluster_centers_)\n",
    "print(\"\\n\\nHasil SSE adalah sebagai berikut :\",kmeans.inertia_)"
   ]
  },
  {
   "cell_type": "code",
   "execution_count": 43,
   "metadata": {},
   "outputs": [
    {
     "data": {
      "image/png": "[encoded data removed]",
      "text/plain": [
       "<Figure size 640x480 with 1 Axes>"
      ]
     },
     "metadata": {},
     "output_type": "display_data"
    }
   ],
   "source": [
    "plt.scatter(x[y_kmeans == 2, 0], x[y_kmeans == 2, 1], s = 100, c = 'yellow', label = 'Cluster 3 Baik')\n",
    "plt.scatter(x[y_kmeans == 0, 0], x[y_kmeans == 0, 1], s = 100, c = 'green', label = 'Cluster 1 Buruk')\n",
    "plt.scatter(x[y_kmeans == 1, 0], x[y_kmeans == 1, 1], s = 100, c = 'orange', label = 'Cluster 2 normal')\n",
    "plt.title('jjk')\n",
    "plt.xlabel('Nilai')\n",
    "plt.ylabel('Kualitas Layanan')\n",
    "plt.legend()\n",
    "plt.show()"
   ]
  }
 ],
 "metadata": {
  "kernelspec": {
   "display_name": "Python 3 (ipykernel)",
   "language": "python",
   "name": "python3"
  },
  "language_info": {
   "codemirror_mode": {
    "name": "ipython",
    "version": 3
   },
   "file_extension": ".py",
   "mimetype": "text/x-python",
   "name": "python",
   "nbconvert_exporter": "python",
   "pygments_lexer": "ipython3",
   "version": "3.8.10"
  }
 },
 "nbformat": 4,
 "nbformat_minor": 4
}
